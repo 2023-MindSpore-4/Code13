{
 "cells": [
  {
   "cell_type": "markdown",
   "metadata": {},
   "source": [
    "Initially, we run yolov3-608 object detector on each frame and save the results as `yolov3_608.pkl`."
   ]
  },
  {
   "cell_type": "code",
   "execution_count": 2,
   "metadata": {},
   "outputs": [],
   "source": [
    "import matplotlib.pyplot as plt\n",
    "import pickle\n",
    "import numpy as np"
   ]
  },
  {
   "cell_type": "code",
   "execution_count": 18,
   "metadata": {},
   "outputs": [
    {
     "name": "stdout",
     "output_type": "stream",
     "text": [
      "1000 frames.\n",
      "result format: [[class_idx, x, y, w, h, conf], ...]\n",
      "example: [[9.0, 0.7403282523155212, 0.05624999850988388, 0.010550996288657188, 0.03750000149011612, 0.2615625858306885], [9.0, 0.957796037197113, 0.05624999850988388, 0.014067995361983776, 0.03750000149011612, 0.33129480481147766], [9.0, 0.07971864193677902, 0.40937501192092896, 0.018757326528429985, 0.05624999850988388, 0.511452317237854]]\n"
     ]
    }
   ],
   "source": [
    "data = pickle.load(open(\"../datasets/yolov3_608.pkl\", \"rb\"))\n",
    "print(f\"{len(data)} frames.\")\n",
    "print(\"result format: [[class_idx, x, y, w, h, conf], ...]\")\n",
    "print(\"example:\", data[0])"
   ]
  },
  {
   "cell_type": "markdown",
   "metadata": {},
   "source": [
    "For vehicle counting application, we care about three object classes: car, bus, truck (index 2,5,8).\n",
    "\n",
    "\n",
    "We treat frames whose vehicle counts are 0 as redundant."
   ]
  },
  {
   "cell_type": "code",
   "execution_count": 23,
   "metadata": {},
   "outputs": [
    {
     "name": "stdout",
     "output_type": "stream",
     "text": [
      "500 for training InFi, redundancy ratio=0.656\n",
      "500 for testing InFi, redundancy ratio=0.718\n"
     ]
    }
   ],
   "source": [
    "vehicle_classes = [2., 5., 8.]\n",
    "redundancy_flags = []\n",
    "for d in data:\n",
    "    c = 0\n",
    "    for d_ in d:\n",
    "        if d_[0] in vehicle_classes:\n",
    "            c += 1\n",
    "    if c > 0:\n",
    "        redundancy_flags.append([1.]) # not redundant\n",
    "    else:\n",
    "        redundancy_flags.append([0.]) # redundant\n",
    "\n",
    "redundancy_flags = np.array(redundancy_flags)\n",
    "\n",
    "train_num = 500\n",
    "y_train = redundancy_flags[:train_num]\n",
    "ratio_train = 1.0 - y_train.sum() / len(y_train)\n",
    "y_test = redundancy_flags[train_num:]\n",
    "ration_test = 1.0 - y_test.sum() / len(y_test)\n",
    "\n",
    "print(f\"{train_num} for training InFi, redundancy ratio={ratio_train}\")\n",
    "print(f\"{redundancy_flags.shape[0] - train_num} for testing InFi, redundancy ratio={ration_test}\")\n",
    "\n",
    "np.save(\"../datasets/vc_y_train.npy\", y_train)\n",
    "np.save(\"../datasets/vc_y_test.npy\", y_test)"
   ]
  },
  {
   "cell_type": "code",
   "execution_count": null,
   "metadata": {},
   "outputs": [],
   "source": []
  }
 ],
 "metadata": {
  "kernelspec": {
   "display_name": "wfilter",
   "language": "python",
   "name": "wfilter"
  },
  "language_info": {
   "codemirror_mode": {
    "name": "ipython",
    "version": 3
   },
   "file_extension": ".py",
   "mimetype": "text/x-python",
   "name": "python",
   "nbconvert_exporter": "python",
   "pygments_lexer": "ipython3",
   "version": "3.7.10"
  }
 },
 "nbformat": 4,
 "nbformat_minor": 4
}

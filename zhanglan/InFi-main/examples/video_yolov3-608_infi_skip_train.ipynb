{
 "cells": [
  {
   "cell_type": "code",
   "execution_count": 1,
   "metadata": {},
   "outputs": [],
   "source": [
    "import sys\n",
    "sys.path.append(\"..\")\n",
    "import os\n",
    "# os.environ[\"CUDA_VISIBLE_DEVICES\"]='-1' # disable GPU\n",
    "from datasets.city import build_city_image_dataset\n",
    "from infi_tf import build_infi_skip, train_infi_skip"
   ]
  },
  {
   "cell_type": "code",
   "execution_count": 6,
   "metadata": {},
   "outputs": [],
   "source": [
    "d_train = build_city_image_dataset(list_path=\"../datasets/vc1k_release_list_train.txt\",\n",
    "                                  root_path=\"../datasets/vc1k_release/\",\n",
    "                                  label_path=\"../datasets/vc_y_train.npy\")"
   ]
  },
  {
   "cell_type": "code",
   "execution_count": 7,
   "metadata": {},
   "outputs": [],
   "source": [
    "d_test = build_city_image_dataset(list_path=\"../datasets/vc1k_release_list_test.txt\",\n",
    "                                  root_path=\"../datasets/vc1k_release/\",\n",
    "                                  label_path=\"../datasets/vc_y_test.npy\")"
   ]
  },
  {
   "cell_type": "code",
   "execution_count": 8,
   "metadata": {},
   "outputs": [
    {
     "name": "stdout",
     "output_type": "stream",
     "text": [
      "Model: \"model_1\"\n",
      "__________________________________________________________________________________________________\n",
      "Layer (type)                    Output Shape         Param #     Connected to                     \n",
      "==================================================================================================\n",
      "input_2 (InputLayer)            [(None, 224, 224, 3) 0                                            \n",
      "__________________________________________________________________________________________________\n",
      "activation_6 (Activation)       (None, 224, 224, 3)  0           input_2[0][0]                    \n",
      "__________________________________________________________________________________________________\n",
      "separable_conv2d_6 (SeparableCo (None, 224, 224, 32) 155         activation_6[0][0]               \n",
      "__________________________________________________________________________________________________\n",
      "layer_normalization_6 (LayerNor (None, 224, 224, 32) 64          separable_conv2d_6[0][0]         \n",
      "__________________________________________________________________________________________________\n",
      "activation_7 (Activation)       (None, 224, 224, 32) 0           layer_normalization_6[0][0]      \n",
      "__________________________________________________________________________________________________\n",
      "separable_conv2d_7 (SeparableCo (None, 224, 224, 32) 1344        activation_7[0][0]               \n",
      "__________________________________________________________________________________________________\n",
      "activation_8 (Activation)       (None, 224, 224, 3)  0           input_2[0][0]                    \n",
      "__________________________________________________________________________________________________\n",
      "layer_normalization_7 (LayerNor (None, 224, 224, 32) 64          separable_conv2d_7[0][0]         \n",
      "__________________________________________________________________________________________________\n",
      "separable_conv2d_8 (SeparableCo (None, 112, 112, 32) 131         activation_8[0][0]               \n",
      "__________________________________________________________________________________________________\n",
      "max_pooling2d_2 (MaxPooling2D)  (None, 112, 112, 32) 0           layer_normalization_7[0][0]      \n",
      "__________________________________________________________________________________________________\n",
      "layer_normalization_8 (LayerNor (None, 112, 112, 32) 64          separable_conv2d_8[0][0]         \n",
      "__________________________________________________________________________________________________\n",
      "add_2 (Add)                     (None, 112, 112, 32) 0           max_pooling2d_2[0][0]            \n",
      "                                                                 layer_normalization_8[0][0]      \n",
      "__________________________________________________________________________________________________\n",
      "activation_9 (Activation)       (None, 112, 112, 32) 0           add_2[0][0]                      \n",
      "__________________________________________________________________________________________________\n",
      "separable_conv2d_9 (SeparableCo (None, 112, 112, 64) 2400        activation_9[0][0]               \n",
      "__________________________________________________________________________________________________\n",
      "layer_normalization_9 (LayerNor (None, 112, 112, 64) 128         separable_conv2d_9[0][0]         \n",
      "__________________________________________________________________________________________________\n",
      "activation_10 (Activation)      (None, 112, 112, 64) 0           layer_normalization_9[0][0]      \n",
      "__________________________________________________________________________________________________\n",
      "separable_conv2d_10 (SeparableC (None, 112, 112, 64) 4736        activation_10[0][0]              \n",
      "__________________________________________________________________________________________________\n",
      "activation_11 (Activation)      (None, 112, 112, 32) 0           add_2[0][0]                      \n",
      "__________________________________________________________________________________________________\n",
      "layer_normalization_10 (LayerNo (None, 112, 112, 64) 128         separable_conv2d_10[0][0]        \n",
      "__________________________________________________________________________________________________\n",
      "separable_conv2d_11 (SeparableC (None, 56, 56, 64)   2144        activation_11[0][0]              \n",
      "__________________________________________________________________________________________________\n",
      "max_pooling2d_3 (MaxPooling2D)  (None, 56, 56, 64)   0           layer_normalization_10[0][0]     \n",
      "__________________________________________________________________________________________________\n",
      "layer_normalization_11 (LayerNo (None, 56, 56, 64)   128         separable_conv2d_11[0][0]        \n",
      "__________________________________________________________________________________________________\n",
      "add_3 (Add)                     (None, 56, 56, 64)   0           max_pooling2d_3[0][0]            \n",
      "                                                                 layer_normalization_11[0][0]     \n",
      "__________________________________________________________________________________________________\n",
      "global_max_pooling2d_1 (GlobalM (None, 64)           0           add_3[0][0]                      \n",
      "__________________________________________________________________________________________________\n",
      "flatten_1 (Flatten)             (None, 64)           0           global_max_pooling2d_1[0][0]     \n",
      "__________________________________________________________________________________________________\n",
      "dense_2 (Dense)                 (None, 200)          13000       flatten_1[0][0]                  \n",
      "__________________________________________________________________________________________________\n",
      "dropout_1 (Dropout)             (None, 200)          0           dense_2[0][0]                    \n",
      "__________________________________________________________________________________________________\n",
      "dense_3 (Dense)                 (None, 1)            201         dropout_1[0][0]                  \n",
      "==================================================================================================\n",
      "Total params: 24,687\n",
      "Trainable params: 24,687\n",
      "Non-trainable params: 0\n",
      "__________________________________________________________________________________________________\n"
     ]
    }
   ],
   "source": [
    "infi = build_infi_skip(modality=\"image\", input_shape=(224,224,3), n_dense=200, n_layers=2, n_filters=32)\n",
    "infi.summary()"
   ]
  },
  {
   "cell_type": "code",
   "execution_count": 9,
   "metadata": {},
   "outputs": [
    {
     "name": "stdout",
     "output_type": "stream",
     "text": [
      "Epoch 1/20\n",
      "16/16 [==============================] - 22s 1s/step - loss: 0.8750 - binary_accuracy: 0.5810 - val_loss: 0.5786 - val_binary_accuracy: 0.7180\n",
      "Epoch 2/20\n",
      "16/16 [==============================] - 19s 1s/step - loss: 0.6944 - binary_accuracy: 0.6422 - val_loss: 0.5830 - val_binary_accuracy: 0.7180\n",
      "Epoch 3/20\n",
      "16/16 [==============================] - 19s 1s/step - loss: 0.6793 - binary_accuracy: 0.6459 - val_loss: 0.5779 - val_binary_accuracy: 0.7180\n",
      "Epoch 4/20\n",
      "16/16 [==============================] - 19s 1s/step - loss: 0.6712 - binary_accuracy: 0.6576 - val_loss: 0.5603 - val_binary_accuracy: 0.7200\n",
      "Epoch 5/20\n",
      "16/16 [==============================] - 19s 1s/step - loss: 0.6023 - binary_accuracy: 0.6682 - val_loss: 0.5521 - val_binary_accuracy: 0.7540\n",
      "Epoch 6/20\n",
      "16/16 [==============================] - 19s 1s/step - loss: 0.5781 - binary_accuracy: 0.7129 - val_loss: 0.5763 - val_binary_accuracy: 0.7320\n",
      "Epoch 7/20\n",
      "16/16 [==============================] - 19s 1s/step - loss: 0.5995 - binary_accuracy: 0.7093 - val_loss: 0.5610 - val_binary_accuracy: 0.7440\n",
      "Epoch 8/20\n",
      "16/16 [==============================] - 19s 1s/step - loss: 0.5879 - binary_accuracy: 0.7094 - val_loss: 0.5712 - val_binary_accuracy: 0.7340\n",
      "Epoch 9/20\n",
      "16/16 [==============================] - 19s 1s/step - loss: 0.5944 - binary_accuracy: 0.7327 - val_loss: 0.5629 - val_binary_accuracy: 0.7560\n",
      "Epoch 10/20\n",
      "16/16 [==============================] - 19s 1s/step - loss: 0.5800 - binary_accuracy: 0.7176 - val_loss: 0.5776 - val_binary_accuracy: 0.7460\n",
      "Epoch 11/20\n",
      "16/16 [==============================] - 19s 1s/step - loss: 0.5725 - binary_accuracy: 0.7171 - val_loss: 0.5544 - val_binary_accuracy: 0.7580\n",
      "Epoch 12/20\n",
      "16/16 [==============================] - 19s 1s/step - loss: 0.5644 - binary_accuracy: 0.7400 - val_loss: 0.5664 - val_binary_accuracy: 0.7560\n",
      "Epoch 13/20\n",
      "16/16 [==============================] - 20s 1s/step - loss: 0.5861 - binary_accuracy: 0.7346 - val_loss: 0.5515 - val_binary_accuracy: 0.7600\n",
      "Epoch 14/20\n",
      "16/16 [==============================] - 20s 1s/step - loss: 0.5749 - binary_accuracy: 0.7344 - val_loss: 0.5527 - val_binary_accuracy: 0.7600\n",
      "Epoch 15/20\n",
      "16/16 [==============================] - 19s 1s/step - loss: 0.5589 - binary_accuracy: 0.7503 - val_loss: 0.5409 - val_binary_accuracy: 0.7640\n",
      "Epoch 16/20\n",
      "16/16 [==============================] - 19s 1s/step - loss: 0.5620 - binary_accuracy: 0.7426 - val_loss: 0.5525 - val_binary_accuracy: 0.7620\n",
      "Epoch 17/20\n",
      "16/16 [==============================] - 19s 1s/step - loss: 0.5525 - binary_accuracy: 0.7674 - val_loss: 0.5465 - val_binary_accuracy: 0.7620\n",
      "Epoch 18/20\n",
      "16/16 [==============================] - 19s 1s/step - loss: 0.5619 - binary_accuracy: 0.7514 - val_loss: 0.5327 - val_binary_accuracy: 0.7680\n",
      "Epoch 19/20\n",
      "16/16 [==============================] - 19s 1s/step - loss: 0.5472 - binary_accuracy: 0.7646 - val_loss: 0.5392 - val_binary_accuracy: 0.7640\n",
      "Epoch 20/20\n",
      "16/16 [==============================] - 19s 1s/step - loss: 0.5546 - binary_accuracy: 0.7433 - val_loss: 0.5462 - val_binary_accuracy: 0.7600\n"
     ]
    }
   ],
   "source": [
    "res = train_infi_skip(infi, d_train,\n",
    "                      learning_rate=0.001, batch_size=32, epochs=20, val_data=d_test,\n",
    "                      log_dir=\"logs/vc1k/\",\n",
    "                      weight_dir=\"weights/vc1k/\")\n",
    "best_val_acc = max(res.history['val_binary_accuracy'])"
   ]
  },
  {
   "cell_type": "code",
   "execution_count": null,
   "metadata": {},
   "outputs": [],
   "source": []
  }
 ],
 "metadata": {
  "kernelspec": {
   "display_name": "wfilter",
   "language": "python",
   "name": "wfilter"
  },
  "language_info": {
   "codemirror_mode": {
    "name": "ipython",
    "version": 3
   },
   "file_extension": ".py",
   "mimetype": "text/x-python",
   "name": "python",
   "nbconvert_exporter": "python",
   "pygments_lexer": "ipython3",
   "version": "3.7.10"
  }
 },
 "nbformat": 4,
 "nbformat_minor": 4
}

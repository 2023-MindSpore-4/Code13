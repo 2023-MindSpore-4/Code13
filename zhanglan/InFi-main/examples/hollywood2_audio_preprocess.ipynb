{
 "cells": [
  {
   "cell_type": "code",
   "execution_count": 1,
   "metadata": {},
   "outputs": [],
   "source": [
    "import sys\n",
    "sys.path.append(\"../\")\n",
    "from datasets.hollywood2 import wav2spectrogram\n",
    "import numpy as np\n",
    "import os"
   ]
  },
  {
   "cell_type": "code",
   "execution_count": 3,
   "metadata": {},
   "outputs": [],
   "source": [
    "# load .wav data and convert it to spectrogram\n",
    "# resize spectrograms with the same SPEC_HEIGHT and SPEC_WIDTH\n",
    "def save_hollywood2_audio_spec(list_path, out_dir, root_path=\"../datasets/Hollywood2/wav_audios/\", postfix=\".wav\"):\n",
    "    with open(list_path, \"r\") as fin:\n",
    "        for line in fin.readlines():\n",
    "            tmp = line.strip()\n",
    "            wav_path = os.path.join(root_path, tmp+postfix)\n",
    "            spec = wav2spectrogram(wav_path, FRAME_LENGTH=255, FRAME_STEP=128, SPEC_HEIGHT=500, SPEC_WIDTH=129)\n",
    "            save_path = os.path.join(out_dir, f\"{tmp}.npy\")\n",
    "            np.save(save_path, spec)"
   ]
  },
  {
   "cell_type": "code",
   "execution_count": 5,
   "metadata": {},
   "outputs": [],
   "source": [
    "# list_train_audioclean.txt removes several wav data that cannot be converted\n",
    "save_hollywood2_audio_spec(\"../datasets/Hollywood2/list_train_audioclean.txt\", \"../datasets/Hollywood2/spectrograms/\")"
   ]
  },
  {
   "cell_type": "code",
   "execution_count": 6,
   "metadata": {},
   "outputs": [],
   "source": [
    "save_hollywood2_audio_spec(\"../datasets/Hollywood2/list_test.txt\", \"../datasets/Hollywood2/spectrograms/\")"
   ]
  },
  {
   "cell_type": "code",
   "execution_count": 2,
   "metadata": {},
   "outputs": [],
   "source": [
    "# load speech recognition results and generate redundancy labels\n",
    "import matplotlib.pyplot as plt\n",
    "from datasets.hollywood2 import redundancy_speech"
   ]
  },
  {
   "cell_type": "code",
   "execution_count": 4,
   "metadata": {},
   "outputs": [
    {
     "name": "stdout",
     "output_type": "stream",
     "text": [
      "823\n"
     ]
    },
    {
     "data": {
      "image/png": "[encoded data removed]",
      "text/plain": [
       "<Figure size 432x288 with 1 Axes>"
      ]
     },
     "metadata": {
      "needs_background": "light"
     },
     "output_type": "display_data"
    }
   ],
   "source": [
    "data_train = np.load(\"../datasets/Hollywood2/inference_outputs/speech_train.npy\", allow_pickle=True)\n",
    "\n",
    "p_list = list()\n",
    "for d in data_train:\n",
    "    p = redundancy_speech(d)\n",
    "    p_list.append(p)\n",
    "\n",
    "print(len(p_list))\n",
    "plt.hist(p_list)\n",
    "plt.show()"
   ]
  },
  {
   "cell_type": "code",
   "execution_count": 8,
   "metadata": {},
   "outputs": [
    {
     "name": "stdout",
     "output_type": "stream",
     "text": [
      "MIN-LEN=0, Redundany Ratio=0.134\n",
      "MIN-LEN=1, Redundany Ratio=0.396\n",
      "MIN-LEN=2, Redundany Ratio=0.527\n",
      "MIN-LEN=3, Redundany Ratio=0.61\n",
      "MIN-LEN=4, Redundany Ratio=0.676\n",
      "MIN-LEN=5, Redundany Ratio=0.722\n",
      "MIN-LEN=6, Redundany Ratio=0.759\n",
      "MIN-LEN=7, Redundany Ratio=0.785\n",
      "MIN-LEN=8, Redundany Ratio=0.809\n",
      "MIN-LEN=9, Redundany Ratio=0.838\n"
     ]
    }
   ],
   "source": [
    "for min_len in range(10):\n",
    "    filtered_num = len([p for p in p_list if p <= min_len])\n",
    "    print(f\"MIN-LEN={min_len}, Redundany Ratio={round(filtered_num/823., 3)}\")"
   ]
  },
  {
   "cell_type": "code",
   "execution_count": 9,
   "metadata": {},
   "outputs": [
    {
     "name": "stdout",
     "output_type": "stream",
     "text": [
      "train 0.5273390036452005\n",
      "test 0.498868778280543\n"
     ]
    }
   ],
   "source": [
    "# choose MIN-LEN as 2 and save redundancy labels\n",
    "MIN_LEN = 2\n",
    "for split in [\"train\", \"test\"]:\n",
    "    speech_data =  np.load(f\"../datasets/Hollywood2/inference_outputs/speech_{split}.npy\", allow_pickle=True)\n",
    "    res = list()\n",
    "    for d in speech_data:\n",
    "        p = redundancy_speech(d)\n",
    "        if p <= MIN_LEN:\n",
    "            res.append([0])\n",
    "        else:\n",
    "            res.append([1])\n",
    "    res = np.array(res)\n",
    "    redundancy_ratio = 1.0 - res.sum() / len(res)\n",
    "    print(split, redundancy_ratio)\n",
    "    np.save(f\"../datasets/Hollywood2/redundancy_labels/speech_wnum{MIN_LEN}_{split}.npy\", res)"
   ]
  },
  {
   "cell_type": "code",
   "execution_count": null,
   "metadata": {},
   "outputs": [],
   "source": []
  }
 ],
 "metadata": {
  "kernelspec": {
   "display_name": "wfilter",
   "language": "python",
   "name": "wfilter"
  },
  "language_info": {
   "codemirror_mode": {
    "name": "ipython",
    "version": 3
   },
   "file_extension": ".py",
   "mimetype": "text/x-python",
   "name": "python",
   "nbconvert_exporter": "python",
   "pygments_lexer": "ipython3",
   "version": "3.7.10"
  }
 },
 "nbformat": 4,
 "nbformat_minor": 4
}

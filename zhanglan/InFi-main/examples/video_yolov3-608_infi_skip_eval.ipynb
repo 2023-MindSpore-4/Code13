{
 "cells": [
  {
   "cell_type": "code",
   "execution_count": 1,
   "metadata": {},
   "outputs": [],
   "source": [
    "import matplotlib.pyplot as plt\n",
    "import os\n",
    "os.environ[\"CUDA_VISIBLE_DEVICES\"]=\"-1\"\n",
    "import sys\n",
    "sys.path.append(\"..\")\n",
    "from datasets.city import build_city_image_dataset\n",
    "from infi_tf import load_infi_skip\n",
    "import numpy as np"
   ]
  },
  {
   "cell_type": "code",
   "execution_count": 41,
   "metadata": {},
   "outputs": [],
   "source": [
    "infi = load_infi_skip(\"weights/vc1k/20220403-171816-Epoch20.h5\")\n",
    "x_test = build_city_image_dataset(list_path=\"../datasets/vc1k_release_list_test.txt\",\n",
    "                                 root_path=\"../datasets/vc1k_release/\").batch(10)\n",
    "y_pred = infi.predict(x_test)"
   ]
  },
  {
   "cell_type": "code",
   "execution_count": 42,
   "metadata": {},
   "outputs": [
    {
     "name": "stdout",
     "output_type": "stream",
     "text": [
      "(500, 1)\n"
     ]
    }
   ],
   "source": [
    "y_true = np.load(\"../datasets/vc_y_test.npy\")\n",
    "print(y_true.shape)"
   ]
  },
  {
   "cell_type": "code",
   "execution_count": 43,
   "metadata": {},
   "outputs": [
    {
     "data": {
      "text/plain": [
       "(array([[0.7884791 ],\n",
       "        [0.78731036],\n",
       "        [0.78195965],\n",
       "        [0.7155861 ],\n",
       "        [0.27131033],\n",
       "        [0.18088084],\n",
       "        [0.17609447],\n",
       "        [0.17478761],\n",
       "        [0.18577886],\n",
       "        [0.18216947]], dtype=float32),\n",
       " array([[1.],\n",
       "        [1.],\n",
       "        [1.],\n",
       "        [1.],\n",
       "        [1.],\n",
       "        [1.],\n",
       "        [1.],\n",
       "        [0.],\n",
       "        [0.],\n",
       "        [1.]]),\n",
       " (500, 1))"
      ]
     },
     "execution_count": 43,
     "metadata": {},
     "output_type": "execute_result"
    }
   ],
   "source": [
    "y_pred[:10], y_true[:10], y_pred.shape"
   ]
  },
  {
   "cell_type": "code",
   "execution_count": 44,
   "metadata": {},
   "outputs": [
    {
     "name": "stdout",
     "output_type": "stream",
     "text": [
      "(0.718, 1.0)\n"
     ]
    },
    {
     "data": {
      "image/png": "[encoded data removed]",
      "text/plain": [
       "<Figure size 432x288 with 1 Axes>"
      ]
     },
     "metadata": {
      "needs_background": "light"
     },
     "output_type": "display_data"
    }
   ],
   "source": [
    "def eval_skip(y_true, y_pred, threshold=0.5):\n",
    "    wrong_count = 0\n",
    "    filtered_count = 0\n",
    "    \n",
    "    for y1, y2 in zip(y_true, y_pred):\n",
    "        \n",
    "        if y1[0] == 1. and y2[0] < threshold:\n",
    "            wrong_count += 1\n",
    "            \n",
    "        if y2[0] < threshold:\n",
    "            filtered_count += 1\n",
    "    \n",
    "    total_num = len(y_true)\n",
    "    filtered_rate = filtered_count / total_num\n",
    "    label_acc = 1. - wrong_count / total_num\n",
    "    \n",
    "    return label_acc, filtered_rate\n",
    "\n",
    "TN = 1.0 - y_true.sum() / len(y_true)\n",
    "acc_list = []\n",
    "r_list = []\n",
    "for threshold in np.arange(0., 1.01, 0.01):\n",
    "    acc, r = eval_skip(y_true, y_pred, threshold)\n",
    "    acc_list.append(acc)\n",
    "    r_list.append(r)\n",
    "\n",
    "plt.scatter(acc_list, r_list)\n",
    "worst_x = [0., 1.]\n",
    "worst_y = [1., 0.]\n",
    "optimal_x = [TN, 1.]\n",
    "optimal_y = [1., TN]\n",
    "plt.plot(worst_x, worst_y, 'r')\n",
    "plt.plot(optimal_x, optimal_y, 'g')\n",
    "plt.xlabel(\"inference accuracy\")\n",
    "plt.ylabel(\"filtering rate\")\n",
    "plt.show()"
   ]
  },
  {
   "cell_type": "code",
   "execution_count": null,
   "metadata": {},
   "outputs": [],
   "source": []
  }
 ],
 "metadata": {
  "kernelspec": {
   "display_name": "wfilter",
   "language": "python",
   "name": "wfilter"
  },
  "language_info": {
   "codemirror_mode": {
    "name": "ipython",
    "version": 3
   },
   "file_extension": ".py",
   "mimetype": "text/x-python",
   "name": "python",
   "nbconvert_exporter": "python",
   "pygments_lexer": "ipython3",
   "version": "3.7.10"
  }
 },
 "nbformat": 4,
 "nbformat_minor": 4
}

{
 "cells": [
  {
   "cell_type": "code",
   "execution_count": 1,
   "metadata": {},
   "outputs": [],
   "source": [
    "import sys\n",
    "sys.path.append(\"..\")\n",
    "import os\n",
    "os.environ[\"CUDA_VISIBLE_DEVICES\"]='-1' # disable GPU\n",
    "from datasets.hollywood2 import build_hollywood2_wavspec_dataset\n",
    "from infi_tf import build_infi_skip, train_infi_skip"
   ]
  },
  {
   "cell_type": "code",
   "execution_count": 2,
   "metadata": {},
   "outputs": [],
   "source": [
    "d_train = build_hollywood2_wavspec_dataset(list_path=\"../datasets/Hollywood2/list_train_audioclean.txt\",\n",
    "                                           root_path=\"../datasets/Hollywood2/spectrograms/\",\n",
    "                                           label_path=\"../datasets/Hollywood2/redundancy_labels/speech_wnum2_train.npy\")"
   ]
  },
  {
   "cell_type": "code",
   "execution_count": 3,
   "metadata": {},
   "outputs": [],
   "source": [
    "d_test = build_hollywood2_wavspec_dataset(list_path=\"../datasets/Hollywood2/list_test.txt\",\n",
    "                                         root_path=\"../datasets/Hollywood2/spectrograms/\",\n",
    "                                         label_path=\"../datasets/Hollywood2/redundancy_labels/speech_wnum2_test.npy\")"
   ]
  },
  {
   "cell_type": "code",
   "execution_count": 4,
   "metadata": {},
   "outputs": [
    {
     "name": "stdout",
     "output_type": "stream",
     "text": [
      "Model: \"model\"\n",
      "__________________________________________________________________________________________________\n",
      "Layer (type)                    Output Shape         Param #     Connected to                     \n",
      "==================================================================================================\n",
      "input_1 (InputLayer)            [(None, 500, 129, 1) 0                                            \n",
      "__________________________________________________________________________________________________\n",
      "activation (Activation)         (None, 500, 129, 1)  0           input_1[0][0]                    \n",
      "__________________________________________________________________________________________________\n",
      "separable_conv2d (SeparableConv (None, 500, 129, 32) 73          activation[0][0]                 \n",
      "__________________________________________________________________________________________________\n",
      "layer_normalization (LayerNorma (None, 500, 129, 32) 64          separable_conv2d[0][0]           \n",
      "__________________________________________________________________________________________________\n",
      "activation_1 (Activation)       (None, 500, 129, 32) 0           layer_normalization[0][0]        \n",
      "__________________________________________________________________________________________________\n",
      "separable_conv2d_1 (SeparableCo (None, 500, 129, 32) 1344        activation_1[0][0]               \n",
      "__________________________________________________________________________________________________\n",
      "activation_2 (Activation)       (None, 500, 129, 1)  0           input_1[0][0]                    \n",
      "__________________________________________________________________________________________________\n",
      "layer_normalization_1 (LayerNor (None, 500, 129, 32) 64          separable_conv2d_1[0][0]         \n",
      "__________________________________________________________________________________________________\n",
      "separable_conv2d_2 (SeparableCo (None, 250, 65, 32)  65          activation_2[0][0]               \n",
      "__________________________________________________________________________________________________\n",
      "max_pooling2d (MaxPooling2D)    (None, 250, 65, 32)  0           layer_normalization_1[0][0]      \n",
      "__________________________________________________________________________________________________\n",
      "layer_normalization_2 (LayerNor (None, 250, 65, 32)  64          separable_conv2d_2[0][0]         \n",
      "__________________________________________________________________________________________________\n",
      "add (Add)                       (None, 250, 65, 32)  0           max_pooling2d[0][0]              \n",
      "                                                                 layer_normalization_2[0][0]      \n",
      "__________________________________________________________________________________________________\n",
      "activation_3 (Activation)       (None, 250, 65, 32)  0           add[0][0]                        \n",
      "__________________________________________________________________________________________________\n",
      "separable_conv2d_3 (SeparableCo (None, 250, 65, 64)  2400        activation_3[0][0]               \n",
      "__________________________________________________________________________________________________\n",
      "layer_normalization_3 (LayerNor (None, 250, 65, 64)  128         separable_conv2d_3[0][0]         \n",
      "__________________________________________________________________________________________________\n",
      "activation_4 (Activation)       (None, 250, 65, 64)  0           layer_normalization_3[0][0]      \n",
      "__________________________________________________________________________________________________\n",
      "separable_conv2d_4 (SeparableCo (None, 250, 65, 64)  4736        activation_4[0][0]               \n",
      "__________________________________________________________________________________________________\n",
      "activation_5 (Activation)       (None, 250, 65, 32)  0           add[0][0]                        \n",
      "__________________________________________________________________________________________________\n",
      "layer_normalization_4 (LayerNor (None, 250, 65, 64)  128         separable_conv2d_4[0][0]         \n",
      "__________________________________________________________________________________________________\n",
      "separable_conv2d_5 (SeparableCo (None, 125, 33, 64)  2144        activation_5[0][0]               \n",
      "__________________________________________________________________________________________________\n",
      "max_pooling2d_1 (MaxPooling2D)  (None, 125, 33, 64)  0           layer_normalization_4[0][0]      \n",
      "__________________________________________________________________________________________________\n",
      "layer_normalization_5 (LayerNor (None, 125, 33, 64)  128         separable_conv2d_5[0][0]         \n",
      "__________________________________________________________________________________________________\n",
      "add_1 (Add)                     (None, 125, 33, 64)  0           max_pooling2d_1[0][0]            \n",
      "                                                                 layer_normalization_5[0][0]      \n",
      "__________________________________________________________________________________________________\n",
      "global_max_pooling2d (GlobalMax (None, 64)           0           add_1[0][0]                      \n",
      "__________________________________________________________________________________________________\n",
      "flatten (Flatten)               (None, 64)           0           global_max_pooling2d[0][0]       \n",
      "__________________________________________________________________________________________________\n",
      "dense (Dense)                   (None, 200)          13000       flatten[0][0]                    \n",
      "__________________________________________________________________________________________________\n",
      "dropout (Dropout)               (None, 200)          0           dense[0][0]                      \n",
      "__________________________________________________________________________________________________\n",
      "dense_1 (Dense)                 (None, 1)            201         dropout[0][0]                    \n",
      "==================================================================================================\n",
      "Total params: 24,539\n",
      "Trainable params: 24,539\n",
      "Non-trainable params: 0\n",
      "__________________________________________________________________________________________________\n"
     ]
    }
   ],
   "source": [
    "infi = build_infi_skip(modality=\"audio\", input_shape=(500,129,1), n_dense=200, n_layers=2, n_filters=32)\n",
    "infi.summary()"
   ]
  },
  {
   "cell_type": "code",
   "execution_count": 5,
   "metadata": {},
   "outputs": [
    {
     "name": "stdout",
     "output_type": "stream",
     "text": [
      "Epoch 1/20\n",
      "26/26 [==============================] - 154s 6s/step - loss: 0.8557 - binary_accuracy: 0.5245 - val_loss: 0.6871 - val_binary_accuracy: 0.5532\n",
      "Epoch 2/20\n",
      "26/26 [==============================] - 152s 6s/step - loss: 0.7563 - binary_accuracy: 0.4928 - val_loss: 0.6872 - val_binary_accuracy: 0.5068\n",
      "Epoch 3/20\n",
      "26/26 [==============================] - 158s 6s/step - loss: 0.7070 - binary_accuracy: 0.5313 - val_loss: 0.6807 - val_binary_accuracy: 0.5781\n",
      "Epoch 4/20\n",
      "26/26 [==============================] - 157s 6s/step - loss: 0.7033 - binary_accuracy: 0.5283 - val_loss: 0.6816 - val_binary_accuracy: 0.5464\n",
      "Epoch 5/20\n",
      "26/26 [==============================] - 155s 6s/step - loss: 0.7053 - binary_accuracy: 0.4968 - val_loss: 0.6713 - val_binary_accuracy: 0.6312\n",
      "Epoch 6/20\n",
      "26/26 [==============================] - 155s 6s/step - loss: 0.6800 - binary_accuracy: 0.5498 - val_loss: 0.6632 - val_binary_accuracy: 0.6674\n",
      "Epoch 7/20\n",
      "26/26 [==============================] - 155s 6s/step - loss: 0.6737 - binary_accuracy: 0.5741 - val_loss: 0.6518 - val_binary_accuracy: 0.6697\n",
      "Epoch 8/20\n",
      "26/26 [==============================] - 154s 6s/step - loss: 0.6536 - binary_accuracy: 0.6287 - val_loss: 0.6416 - val_binary_accuracy: 0.6923\n",
      "Epoch 9/20\n",
      "26/26 [==============================] - 154s 6s/step - loss: 0.6469 - binary_accuracy: 0.6115 - val_loss: 0.6333 - val_binary_accuracy: 0.6719\n",
      "Epoch 10/20\n",
      "26/26 [==============================] - 154s 6s/step - loss: 0.6353 - binary_accuracy: 0.6357 - val_loss: 0.6302 - val_binary_accuracy: 0.6889\n",
      "Epoch 11/20\n",
      "26/26 [==============================] - 153s 6s/step - loss: 0.6261 - binary_accuracy: 0.6477 - val_loss: 0.6173 - val_binary_accuracy: 0.7251\n",
      "Epoch 12/20\n",
      "26/26 [==============================] - 153s 6s/step - loss: 0.6171 - binary_accuracy: 0.6760 - val_loss: 0.6086 - val_binary_accuracy: 0.6991\n",
      "Epoch 13/20\n",
      "26/26 [==============================] - 153s 6s/step - loss: 0.6116 - binary_accuracy: 0.6557 - val_loss: 0.6233 - val_binary_accuracy: 0.6629\n",
      "Epoch 14/20\n",
      "26/26 [==============================] - 154s 6s/step - loss: 0.5971 - binary_accuracy: 0.6967 - val_loss: 0.5998 - val_binary_accuracy: 0.7104\n",
      "Epoch 15/20\n",
      "26/26 [==============================] - 155s 6s/step - loss: 0.5939 - binary_accuracy: 0.6717 - val_loss: 0.5952 - val_binary_accuracy: 0.7262\n",
      "Epoch 16/20\n",
      "26/26 [==============================] - 154s 6s/step - loss: 0.5743 - binary_accuracy: 0.7005 - val_loss: 0.5971 - val_binary_accuracy: 0.7127\n",
      "Epoch 17/20\n",
      "26/26 [==============================] - 154s 6s/step - loss: 0.5812 - binary_accuracy: 0.7055 - val_loss: 0.5932 - val_binary_accuracy: 0.7183\n",
      "Epoch 18/20\n",
      "26/26 [==============================] - 153s 6s/step - loss: 0.5649 - binary_accuracy: 0.7045 - val_loss: 0.5859 - val_binary_accuracy: 0.7274\n",
      "Epoch 19/20\n",
      "26/26 [==============================] - 153s 6s/step - loss: 0.5571 - binary_accuracy: 0.7308 - val_loss: 0.5835 - val_binary_accuracy: 0.7251\n",
      "Epoch 20/20\n",
      "26/26 [==============================] - 154s 6s/step - loss: 0.5615 - binary_accuracy: 0.7241 - val_loss: 0.5847 - val_binary_accuracy: 0.7183\n"
     ]
    }
   ],
   "source": [
    "res = train_infi_skip(infi, d_train,\n",
    "                      learning_rate=0.001, batch_size=32, epochs=20, val_data=d_test,\n",
    "                      log_dir=\"logs/hollywood2_speech_wnum2/\",\n",
    "                      weight_dir=\"weights/hollywood2_speech_wnum2/\")\n",
    "best_val_acc = max(res.history['val_binary_accuracy'])"
   ]
  },
  {
   "cell_type": "code",
   "execution_count": null,
   "metadata": {},
   "outputs": [],
   "source": []
  }
 ],
 "metadata": {
  "kernelspec": {
   "display_name": "wfilter",
   "language": "python",
   "name": "wfilter"
  },
  "language_info": {
   "codemirror_mode": {
    "name": "ipython",
    "version": 3
   },
   "file_extension": ".py",
   "mimetype": "text/x-python",
   "name": "python",
   "nbconvert_exporter": "python",
   "pygments_lexer": "ipython3",
   "version": "3.7.10"
  }
 },
 "nbformat": 4,
 "nbformat_minor": 4
}
